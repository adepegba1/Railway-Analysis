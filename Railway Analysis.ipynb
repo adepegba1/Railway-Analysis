{
 "cells": [
  {
   "cell_type": "code",
   "execution_count": 1,
   "id": "37f6ef11-19b4-4d29-8de6-fe2608181e3e",
   "metadata": {},
   "outputs": [],
   "source": [
    "import numpy as np\n",
    "import pandas as pd\n",
    "import matplotlib.pyplot as plt\n",
    "import seaborn as sns"
   ]
  },
  {
   "cell_type": "code",
   "execution_count": 2,
   "id": "6d4216e9-a0d8-4692-8009-7c1013b4755c",
   "metadata": {},
   "outputs": [],
   "source": [
    "df = pd.read_csv('railway_new.csv')"
   ]
  },
  {
   "cell_type": "code",
   "execution_count": 3,
   "id": "b843db64-0ddd-4045-8a9e-df63b6b5a7a9",
   "metadata": {},
   "outputs": [
    {
     "data": {
      "text/html": [
       "<div>\n",
       "<style scoped>\n",
       "    .dataframe tbody tr th:only-of-type {\n",
       "        vertical-align: middle;\n",
       "    }\n",
       "\n",
       "    .dataframe tbody tr th {\n",
       "        vertical-align: top;\n",
       "    }\n",
       "\n",
       "    .dataframe thead th {\n",
       "        text-align: right;\n",
       "    }\n",
       "</style>\n",
       "<table border=\"1\" class=\"dataframe\">\n",
       "  <thead>\n",
       "    <tr style=\"text-align: right;\">\n",
       "      <th></th>\n",
       "      <th>Transaction ID</th>\n",
       "      <th>Date of Purchase</th>\n",
       "      <th>Time of Purchase</th>\n",
       "      <th>Purchase Type</th>\n",
       "      <th>Payment Method</th>\n",
       "      <th>Railcard</th>\n",
       "      <th>Ticket Class</th>\n",
       "      <th>Ticket Type</th>\n",
       "      <th>Price</th>\n",
       "      <th>Departure Station</th>\n",
       "      <th>Arrival Destination</th>\n",
       "      <th>Date of Journey</th>\n",
       "      <th>Departure Time</th>\n",
       "      <th>Arrival Time</th>\n",
       "      <th>Actual Arrival Time</th>\n",
       "      <th>Journey Status</th>\n",
       "      <th>Reason for Delay</th>\n",
       "      <th>Refund Request</th>\n",
       "    </tr>\n",
       "  </thead>\n",
       "  <tbody>\n",
       "    <tr>\n",
       "      <th>0</th>\n",
       "      <td>da8a6ba8-b3dc-4677-b176</td>\n",
       "      <td>12/8/2023</td>\n",
       "      <td>12:41:11</td>\n",
       "      <td>Online</td>\n",
       "      <td>Contactless</td>\n",
       "      <td>Adult</td>\n",
       "      <td>Standard</td>\n",
       "      <td>Advance</td>\n",
       "      <td>43</td>\n",
       "      <td>London Paddington</td>\n",
       "      <td>Liverpool Lime Street</td>\n",
       "      <td>1/1/2024</td>\n",
       "      <td>11:00:00</td>\n",
       "      <td>13:30:00</td>\n",
       "      <td>13:30:00</td>\n",
       "      <td>On Time</td>\n",
       "      <td>NaN</td>\n",
       "      <td>No</td>\n",
       "    </tr>\n",
       "    <tr>\n",
       "      <th>1</th>\n",
       "      <td>b0cdd1b0-f214-4197-be53</td>\n",
       "      <td>12/16/2023</td>\n",
       "      <td>11:23:01</td>\n",
       "      <td>Station</td>\n",
       "      <td>Credit Card</td>\n",
       "      <td>Adult</td>\n",
       "      <td>Standard</td>\n",
       "      <td>Advance</td>\n",
       "      <td>23</td>\n",
       "      <td>London Kings Cross</td>\n",
       "      <td>York</td>\n",
       "      <td>1/1/2024</td>\n",
       "      <td>9:45:00</td>\n",
       "      <td>11:35:00</td>\n",
       "      <td>11:40:00</td>\n",
       "      <td>Delayed</td>\n",
       "      <td>Signal Failure</td>\n",
       "      <td>No</td>\n",
       "    </tr>\n",
       "    <tr>\n",
       "      <th>2</th>\n",
       "      <td>f3ba7a96-f713-40d9-9629</td>\n",
       "      <td>12/19/2023</td>\n",
       "      <td>19:51:27</td>\n",
       "      <td>Online</td>\n",
       "      <td>Credit Card</td>\n",
       "      <td>NaN</td>\n",
       "      <td>Standard</td>\n",
       "      <td>Advance</td>\n",
       "      <td>3</td>\n",
       "      <td>Liverpool Lime Street</td>\n",
       "      <td>Manchester Piccadilly</td>\n",
       "      <td>1/2/2024</td>\n",
       "      <td>18:15:00</td>\n",
       "      <td>18:45:00</td>\n",
       "      <td>18:45:00</td>\n",
       "      <td>On Time</td>\n",
       "      <td>NaN</td>\n",
       "      <td>No</td>\n",
       "    </tr>\n",
       "    <tr>\n",
       "      <th>3</th>\n",
       "      <td>b2471f11-4fe7-4c87-8ab4</td>\n",
       "      <td>12/20/2023</td>\n",
       "      <td>23:00:36</td>\n",
       "      <td>Station</td>\n",
       "      <td>Credit Card</td>\n",
       "      <td>NaN</td>\n",
       "      <td>Standard</td>\n",
       "      <td>Advance</td>\n",
       "      <td>13</td>\n",
       "      <td>London Paddington</td>\n",
       "      <td>Reading</td>\n",
       "      <td>1/1/2024</td>\n",
       "      <td>21:30:00</td>\n",
       "      <td>22:30:00</td>\n",
       "      <td>22:30:00</td>\n",
       "      <td>On Time</td>\n",
       "      <td>NaN</td>\n",
       "      <td>No</td>\n",
       "    </tr>\n",
       "    <tr>\n",
       "      <th>4</th>\n",
       "      <td>2be00b45-0762-485e-a7a3</td>\n",
       "      <td>12/27/2023</td>\n",
       "      <td>18:22:56</td>\n",
       "      <td>Online</td>\n",
       "      <td>Contactless</td>\n",
       "      <td>NaN</td>\n",
       "      <td>Standard</td>\n",
       "      <td>Advance</td>\n",
       "      <td>76</td>\n",
       "      <td>Liverpool Lime Street</td>\n",
       "      <td>London Euston</td>\n",
       "      <td>1/1/2024</td>\n",
       "      <td>16:45:00</td>\n",
       "      <td>19:00:00</td>\n",
       "      <td>19:00:00</td>\n",
       "      <td>On Time</td>\n",
       "      <td>NaN</td>\n",
       "      <td>No</td>\n",
       "    </tr>\n",
       "  </tbody>\n",
       "</table>\n",
       "</div>"
      ],
      "text/plain": [
       "            Transaction ID Date of Purchase Time of Purchase Purchase Type  \\\n",
       "0  da8a6ba8-b3dc-4677-b176        12/8/2023         12:41:11        Online   \n",
       "1  b0cdd1b0-f214-4197-be53       12/16/2023         11:23:01       Station   \n",
       "2  f3ba7a96-f713-40d9-9629       12/19/2023         19:51:27        Online   \n",
       "3  b2471f11-4fe7-4c87-8ab4       12/20/2023         23:00:36       Station   \n",
       "4  2be00b45-0762-485e-a7a3       12/27/2023         18:22:56        Online   \n",
       "\n",
       "  Payment Method Railcard Ticket Class Ticket Type  Price  \\\n",
       "0    Contactless    Adult     Standard     Advance     43   \n",
       "1    Credit Card    Adult     Standard     Advance     23   \n",
       "2    Credit Card      NaN     Standard     Advance      3   \n",
       "3    Credit Card      NaN     Standard     Advance     13   \n",
       "4    Contactless      NaN     Standard     Advance     76   \n",
       "\n",
       "       Departure Station    Arrival Destination Date of Journey  \\\n",
       "0      London Paddington  Liverpool Lime Street        1/1/2024   \n",
       "1     London Kings Cross                   York        1/1/2024   \n",
       "2  Liverpool Lime Street  Manchester Piccadilly        1/2/2024   \n",
       "3      London Paddington                Reading        1/1/2024   \n",
       "4  Liverpool Lime Street          London Euston        1/1/2024   \n",
       "\n",
       "  Departure Time Arrival Time Actual Arrival Time Journey Status  \\\n",
       "0       11:00:00     13:30:00            13:30:00        On Time   \n",
       "1        9:45:00     11:35:00            11:40:00        Delayed   \n",
       "2       18:15:00     18:45:00            18:45:00        On Time   \n",
       "3       21:30:00     22:30:00            22:30:00        On Time   \n",
       "4       16:45:00     19:00:00            19:00:00        On Time   \n",
       "\n",
       "  Reason for Delay Refund Request  \n",
       "0              NaN             No  \n",
       "1   Signal Failure             No  \n",
       "2              NaN             No  \n",
       "3              NaN             No  \n",
       "4              NaN             No  "
      ]
     },
     "execution_count": 3,
     "metadata": {},
     "output_type": "execute_result"
    }
   ],
   "source": [
    "df.head()"
   ]
  },
  {
   "cell_type": "code",
   "execution_count": null,
   "id": "203edea7-fd74-4280-837b-1c19c7b187d6",
   "metadata": {},
   "outputs": [],
   "source": []
  },
  {
   "cell_type": "code",
   "execution_count": 4,
   "id": "8f49bf41-06d3-4b31-9d00-23c2c42c02a6",
   "metadata": {},
   "outputs": [
    {
     "name": "stderr",
     "output_type": "stream",
     "text": [
      "C:\\Users\\Davi PC\\AppData\\Local\\Temp\\ipykernel_14416\\3490173537.py:2: FutureWarning: A value is trying to be set on a copy of a DataFrame or Series through chained assignment using an inplace method.\n",
      "The behavior will change in pandas 3.0. This inplace method will never work because the intermediate object on which we are setting values always behaves as a copy.\n",
      "\n",
      "For example, when doing 'df[col].method(value, inplace=True)', try using 'df.method({col: value}, inplace=True)' or df[col] = df[col].method(value) instead, to perform the operation inplace on the original object.\n",
      "\n",
      "\n",
      "  df['Reason for Delay'].replace({'Signal failure' : 'Signal Failure'}, inplace=True)\n"
     ]
    }
   ],
   "source": [
    "# Replace \"Signal failure\" with \"Signal Failure\"\n",
    "df['Reason for Delay'].replace({'Signal failure' : 'Signal Failure'}, inplace=True)"
   ]
  },
  {
   "cell_type": "code",
   "execution_count": 5,
   "id": "7f8ffa36-c972-4bb4-b9bb-6babdf5f4255",
   "metadata": {},
   "outputs": [
    {
     "data": {
      "text/plain": [
       "False    31653\n",
       "Name: count, dtype: int64"
      ]
     },
     "execution_count": 5,
     "metadata": {},
     "output_type": "execute_result"
    }
   ],
   "source": [
    "# Check for duplicates\n",
    "df.duplicated().value_counts()"
   ]
  },
  {
   "cell_type": "markdown",
   "id": "61ff53b6-cc41-4740-8d65-6fd11edb6fc0",
   "metadata": {},
   "source": [
    "### 1.\tWhat is the total revenue generated from all ticket sales?"
   ]
  },
  {
   "cell_type": "code",
   "execution_count": 6,
   "id": "9c417276-abb6-410a-ab09-2c4974e3a14a",
   "metadata": {},
   "outputs": [
    {
     "name": "stdout",
     "output_type": "stream",
     "text": [
      "The total revenue generated for all ticket sale is: $741,921\n"
     ]
    }
   ],
   "source": [
    "totalRevenue = df['Price'].sum()\n",
    "print(f\"The total revenue generated for all ticket sale is: ${totalRevenue:,}\")"
   ]
  },
  {
   "cell_type": "markdown",
   "id": "0ec46206-884b-47b5-9730-ef4b2a369094",
   "metadata": {},
   "source": []
  },
  {
   "cell_type": "markdown",
   "id": "cf4078e1-ba3e-4ca5-bfde-8635bf0523be",
   "metadata": {},
   "source": []
  },
  {
   "cell_type": "markdown",
   "id": "718876ee-756d-4bb2-8419-fda6069dcb79",
   "metadata": {},
   "source": [
    "### 2.\tWhich purchase type (Online or Station) is more popular among passengers?"
   ]
  },
  {
   "cell_type": "code",
   "execution_count": 7,
   "id": "b02cfdbb-7774-4ee6-9e75-42a645890615",
   "metadata": {},
   "outputs": [
    {
     "name": "stdout",
     "output_type": "stream",
     "text": [
      "The most purchase type is Online with 18,521 sales\n"
     ]
    }
   ],
   "source": [
    "PurchaseType = df['Purchase Type'].value_counts().sort_values(ascending=False)\n",
    "print(f\"The most purchase type is {PurchaseType.index[0]} with {PurchaseType.values[0]:,} sales\")"
   ]
  },
  {
   "cell_type": "code",
   "execution_count": 8,
   "id": "927cc988-7730-496b-84c3-ef70b9746ccb",
   "metadata": {},
   "outputs": [
    {
     "data": {
      "image/png": "[encoded data removed]",
      "text/plain": [
       "<Figure size 640x480 with 1 Axes>"
      ]
     },
     "metadata": {},
     "output_type": "display_data"
    }
   ],
   "source": [
    "PurchaseType.plot(kind='barh')\n",
    "plt.title('Purchase Type among passengers')\n",
    "plt.xlabel('Count')\n",
    "plt.ylabel('Purchase Type')\n",
    "plt.show()"
   ]
  },
  {
   "cell_type": "code",
   "execution_count": null,
   "id": "e759448d-65b0-4d9d-8fd1-c869d364c7be",
   "metadata": {},
   "outputs": [],
   "source": []
  },
  {
   "cell_type": "code",
   "execution_count": null,
   "id": "8ee945f3-df6f-4e5f-ba9a-82e4664bbe3f",
   "metadata": {},
   "outputs": [],
   "source": []
  },
  {
   "cell_type": "markdown",
   "id": "3a596c07-d5e7-49f6-925b-b6d1e45d67bd",
   "metadata": {},
   "source": [
    "### 3.\tWhat are the top 10 most popular routes based on ticket sales volume?"
   ]
  },
  {
   "cell_type": "code",
   "execution_count": 9,
   "id": "537bc3fa-468b-49c6-81a2-1e34bf875154",
   "metadata": {},
   "outputs": [
    {
     "name": "stdout",
     "output_type": "stream",
     "text": [
      "Departure Station      Arrival Destination  \n",
      "Manchester Piccadilly  Liverpool Lime Street    4628\n",
      "London Euston          Birmingham New Street    4209\n",
      "London Kings Cross     York                     3922\n",
      "London Paddington      Reading                  3873\n",
      "London St Pancras      Birmingham New Street    3471\n",
      "Liverpool Lime Street  Manchester Piccadilly    3002\n",
      "                       London Euston            1097\n",
      "London Euston          Manchester Piccadilly     712\n",
      "Birmingham New Street  London St Pancras         702\n",
      "London Paddington      Oxford                    485\n",
      "dtype: int64\n"
     ]
    }
   ],
   "source": [
    "data = df.groupby(['Departure Station', 'Arrival Destination']).size()\n",
    "popularRoutes = data.sort_values(ascending=False)\n",
    "print(popularRoutes.head(10))"
   ]
  },
  {
   "cell_type": "markdown",
   "id": "83e74be2-cedb-4c2b-adcb-0bd0a76ddfae",
   "metadata": {},
   "source": []
  },
  {
   "cell_type": "markdown",
   "id": "e7d4549c-43c4-4a9c-a960-553706046ee0",
   "metadata": {},
   "source": []
  },
  {
   "cell_type": "markdown",
   "id": "d26f13c0-5ba3-49ae-ae76-1524725cd394",
   "metadata": {},
   "source": [
    "### 4.\tWhat is the average ticket price by ticket class (Standard vs First)?"
   ]
  },
  {
   "cell_type": "code",
   "execution_count": 13,
   "id": "132e326e-fb9f-426f-83f9-6114a5d48399",
   "metadata": {},
   "outputs": [
    {
     "name": "stdout",
     "output_type": "stream",
     "text": [
      "The average ticket price for First Class is $48.86 and\n",
      "the average ticket price for Standard is $20.72\n"
     ]
    }
   ],
   "source": [
    "averageTicketClass = df.groupby('Ticket Class')['Price'].mean()\n",
    "print(f\"\"\"The average ticket price for {averageTicketClass.index[0]} is ${averageTicketClass.values[0]:.2f} and\n",
    "the average ticket price for {averageTicketClass.index[1]} is ${averageTicketClass.values[1]:.2f}\"\"\")"
   ]
  },
  {
   "cell_type": "markdown",
   "id": "66a8caa6-d5b0-40e2-b442-7aaefafb88e1",
   "metadata": {},
   "source": []
  },
  {
   "cell_type": "markdown",
   "id": "97134f5a-684c-4ef2-a1fe-b0c620b4ae46",
   "metadata": {},
   "source": []
  },
  {
   "cell_type": "markdown",
   "id": "1245ed0b-1d2b-4082-8a29-c9e980dc93f6",
   "metadata": {},
   "source": [
    "### 5.\tDoes the ticket type (Advance, Anytime, etc.) affect the average ticket price?"
   ]
  },
  {
   "cell_type": "code",
   "execution_count": 15,
   "id": "3685911c-1a05-4a18-9705-2e9a3500dd2c",
   "metadata": {},
   "outputs": [
    {
     "name": "stdout",
     "output_type": "stream",
     "text": [
      "The lowest ticket type is Advance with the average price of $17.61 \n",
      "followed by ticket type is Off-Peak with the average price of $25.52 \n",
      "followed by ticket type is Anytime with the average price of $39.20\n"
     ]
    }
   ],
   "source": [
    "averageTicketType = df.groupby('Ticket Type')['Price'].mean().sort_values()\n",
    "print(f\"\"\"The lowest ticket type is {averageTicketType.index[0]} with the average price of ${averageTicketType.values[0]:.2f} \n",
    "followed by ticket type is {averageTicketType.index[1]} with the average price of ${averageTicketType.values[1]:.2f} \n",
    "followed by ticket type is {averageTicketType.index[2]} with the average price of ${averageTicketType.values[2]:.2f}\"\"\")"
   ]
  },
  {
   "cell_type": "markdown",
   "id": "245e5768-0443-408d-b820-108aa4c6212d",
   "metadata": {},
   "source": []
  },
  {
   "cell_type": "markdown",
   "id": "cd687e18-0349-4707-b248-037279a3aec4",
   "metadata": {},
   "source": []
  },
  {
   "cell_type": "markdown",
   "id": "7dd7035b-1435-4762-a74d-156e33bdaa4c",
   "metadata": {},
   "source": [
    "### 6.\tWhich routes have the highest average ticket prices?"
   ]
  },
  {
   "cell_type": "code",
   "execution_count": 18,
   "id": "0987b289-158a-4b4b-8ce3-91d582d7ef33",
   "metadata": {},
   "outputs": [
    {
     "name": "stdout",
     "output_type": "stream",
     "text": [
      "The route with the highest average is Manchester Piccadilly departure station and London Paddington \n",
      "arrival destination with average price of $114.11\n"
     ]
    }
   ],
   "source": [
    "highestPrice = df.groupby(['Departure Station', 'Arrival Destination'])['Price'].mean().sort_values(ascending=False)\n",
    "print(f\"\"\"The route with the highest average is {highestPrice.index[0][0]} departure station and {highestPrice.index[0][1]} \n",
    "arrival destination with average price of ${highestPrice.values[0]:.2f}\"\"\") \n"
   ]
  },
  {
   "cell_type": "markdown",
   "id": "4f6ea3cf-8dfe-4bb0-b379-f82918c3b179",
   "metadata": {},
   "source": []
  },
  {
   "cell_type": "markdown",
   "id": "814769ab-080c-41e0-bcb9-2fc219c06005",
   "metadata": {},
   "source": []
  },
  {
   "cell_type": "markdown",
   "id": "bf74d805-60e2-4d56-931a-afa150f291dd",
   "metadata": {},
   "source": [
    "### 7.\tWhat percentage of journeys were delayed versus on time?"
   ]
  },
  {
   "cell_type": "code",
   "execution_count": 13,
   "id": "feced5ba-bb62-4c40-bde2-a6c658749ed4",
   "metadata": {},
   "outputs": [
    {
     "data": {
      "image/png": "[encoded data removed]",
      "text/plain": [
       "<Figure size 640x480 with 1 Axes>"
      ]
     },
     "metadata": {},
     "output_type": "display_data"
    }
   ],
   "source": [
    "journeyStatus = df['Journey Status'].value_counts()\n",
    "journeyStatus.plot(kind='pie', autopct = '%1.1f%%')\n",
    "plt.title('Percentage of Journeys Status')\n",
    "plt.show()"
   ]
  },
  {
   "cell_type": "markdown",
   "id": "a22275c3-1485-4f19-8c86-bdf1b960ea09",
   "metadata": {},
   "source": []
  },
  {
   "cell_type": "markdown",
   "id": "6cd1ff0b-310e-4e27-9ab5-1b9af62ccc74",
   "metadata": {},
   "source": []
  },
  {
   "cell_type": "markdown",
   "id": "3c1c10e5-2643-4787-acea-3e9ad1979d1a",
   "metadata": {},
   "source": [
    "### 8.\tWhich routes experienced the most delays?"
   ]
  },
  {
   "cell_type": "code",
   "execution_count": 19,
   "id": "75f63913-1f87-4bb4-b5de-06931afdfc3a",
   "metadata": {},
   "outputs": [
    {
     "name": "stdout",
     "output_type": "stream",
     "text": [
      "The route with most delay is Liverpool Lime Street departure station and London Euston \n",
      "arrival destination with 780 flight delayed\n"
     ]
    }
   ],
   "source": [
    "journeydelay = df[(df['Journey Status'] == 'Delayed')]\n",
    "delayedRoute = journeydelay.groupby(['Departure Station', 'Arrival Destination']).size().sort_values(ascending=False)\n",
    "print(f\"\"\"The route with most delay is {delayedRoute.index[0][0]} departure station and {delayedRoute.index[0][1]} \n",
    "arrival destination with {delayedRoute.values[0]} flight delayed\"\"\")"
   ]
  },
  {
   "cell_type": "markdown",
   "id": "a426f1ad-51a7-4d15-a3fd-861200ecedc5",
   "metadata": {},
   "source": []
  },
  {
   "cell_type": "markdown",
   "id": "54f67e73-0545-4789-a126-11677b0224ae",
   "metadata": {},
   "source": []
  },
  {
   "cell_type": "markdown",
   "id": "c3cadb30-c323-4bfb-8ed1-7c83cd2bfc8f",
   "metadata": {},
   "source": [
    "### 9.\tWhat are the top 5 reasons for delays across all journeys?"
   ]
  },
  {
   "cell_type": "code",
   "execution_count": 15,
   "id": "e183b819-eebd-4cb3-8aa6-e63238ddc35f",
   "metadata": {},
   "outputs": [
    {
     "data": {
      "image/png": "[encoded data removed]",
      "text/plain": [
       "<Figure size 1000x800 with 1 Axes>"
      ]
     },
     "metadata": {},
     "output_type": "display_data"
    }
   ],
   "source": [
    "reasonForDelay = df['Reason for Delay'].value_counts().sort_values(ascending=False)\n",
    "reasonForDelay.plot(kind='barh', figsize=(10,8))\n",
    "plt.title(\"Top 5 reasons for delays\")\n",
    "plt.xlabel('Count')\n",
    "plt.ylabel('Reason for delay')\n",
    "plt.show()"
   ]
  },
  {
   "cell_type": "markdown",
   "id": "5c34a346-652e-4af6-81dd-787d139d608f",
   "metadata": {},
   "source": []
  },
  {
   "cell_type": "markdown",
   "id": "4437326b-9d5c-4401-a3c2-94c610cfb66e",
   "metadata": {},
   "source": []
  },
  {
   "cell_type": "markdown",
   "id": "c32e83c8-a58d-4158-af20-12b01f741691",
   "metadata": {},
   "source": [
    "### 10.\tHow many delayed journeys led to refund requests?"
   ]
  },
  {
   "cell_type": "code",
   "execution_count": 16,
   "id": "3288f000-9a97-43b9-a670-1af4bdedcfb8",
   "metadata": {},
   "outputs": [
    {
     "name": "stdout",
     "output_type": "stream",
     "text": [
      "The number of delayed journeys led to refund request is 546\n"
     ]
    }
   ],
   "source": [
    "delayJourney = df[(df['Journey Status'] == 'Delayed')  & (df['Refund Request'] == 'Yes')]\n",
    "a = delayJourney['Refund Request'].value_counts()\n",
    "print(f\"The number of delayed journeys led to refund request is {a.values[0]}\")"
   ]
  },
  {
   "cell_type": "markdown",
   "id": "174264a4-8a87-46d0-9b88-4c0b06324b86",
   "metadata": {},
   "source": []
  },
  {
   "cell_type": "markdown",
   "id": "a58b9a7b-5bcf-4187-ab0a-7b2bdfb0e80c",
   "metadata": {},
   "source": []
  },
  {
   "cell_type": "markdown",
   "id": "442b970d-8da8-423d-b1cd-9290b42a36c5",
   "metadata": {},
   "source": [
    "### 11.\tWhat percentage of all refunds were caused by delayed journeys?"
   ]
  },
  {
   "cell_type": "code",
   "execution_count": 17,
   "id": "819152ff-77fc-4cc0-b35a-9b1bbc92d6cb",
   "metadata": {},
   "outputs": [
    {
     "name": "stdout",
     "output_type": "stream",
     "text": [
      "The percentage of all refunds caused by delayed journeys status is 23.82%\n"
     ]
    }
   ],
   "source": [
    "refundPercentage = (delayJourney.shape[0] / df[df['Journey Status'] == 'Delayed'].shape[0]) * 100\n",
    "print(f'The percentage of all refunds caused by delayed journeys status is {refundPercentage:.2f}%')"
   ]
  },
  {
   "cell_type": "markdown",
   "id": "24d6e10f-544d-4846-b648-6f4f4a2d9f9b",
   "metadata": {},
   "source": []
  },
  {
   "cell_type": "markdown",
   "id": "5e0162fb-6f66-4381-9997-6477a1c7c2e8",
   "metadata": {},
   "source": []
  },
  {
   "cell_type": "markdown",
   "id": "710e5e8a-be4f-4333-aaf8-47361ad6ee7d",
   "metadata": {},
   "source": [
    "### 12.\tAre refunds more common for online or station purchases?"
   ]
  },
  {
   "cell_type": "code",
   "execution_count": 18,
   "id": "b7ae4963-4bcd-45bd-971f-628e7eb30a25",
   "metadata": {},
   "outputs": [
    {
     "name": "stdout",
     "output_type": "stream",
     "text": [
      "Refunds are more common with Station with 709 refunds\n"
     ]
    }
   ],
   "source": [
    "refunds  = df[df['Refund Request'] == 'Yes']\n",
    "commonRefund = refunds['Purchase Type'].value_counts().sort_values(ascending=False)\n",
    "print(f'Refunds are more common with {commonRefund.index[0]} with {commonRefund.values[0]} refunds')"
   ]
  },
  {
   "cell_type": "markdown",
   "id": "6f397aa9-071f-4bf0-b42a-cc0ff0bb0b4a",
   "metadata": {},
   "source": []
  },
  {
   "cell_type": "markdown",
   "id": "787797a0-db9f-4a77-bed6-fda65d748da1",
   "metadata": {},
   "source": []
  },
  {
   "cell_type": "markdown",
   "id": "78cd4d7b-5fe7-4383-82da-4dcbab18f420",
   "metadata": {},
   "source": [
    "### 13.\tWhich month generated the highest total ticket sales revenue?"
   ]
  },
  {
   "cell_type": "code",
   "execution_count": 19,
   "id": "ec52423a-dbfd-4ac6-8812-ba585d06057c",
   "metadata": {},
   "outputs": [
    {
     "name": "stdout",
     "output_type": "stream",
     "text": [
      "The month with highest sales revenue is January with $205,091 revenue generated\n"
     ]
    }
   ],
   "source": [
    "df['Date of Purchase'] = pd.to_datetime(df['Date of Purchase'])\n",
    "df['Months'] = df['Date of Purchase'].dt.month_name()\n",
    "highestmonth = df.groupby('Months')['Price'].sum().sort_values(ascending=False)\n",
    "print(f\"The month with highest sales revenue is {highestmonth.index[0]} with ${highestmonth.values[0]:,} revenue generated\")"
   ]
  },
  {
   "cell_type": "markdown",
   "id": "68e1ea5b-206e-4d4b-8fca-9aca7492e6d1",
   "metadata": {},
   "source": []
  },
  {
   "cell_type": "markdown",
   "id": "1183d47c-aefa-4336-8dcb-b5dd448605f8",
   "metadata": {},
   "source": []
  },
  {
   "cell_type": "markdown",
   "id": "f3641952-d89e-44e4-b6ad-1c81ed086d2b",
   "metadata": {},
   "source": [
    "### 14.\tAt what time of day are tickets most frequently purchased (morning, afternoon, evening)?"
   ]
  },
  {
   "cell_type": "code",
   "execution_count": 20,
   "id": "43afd096-ffe5-4682-b621-ad75015db6ec",
   "metadata": {
    "scrolled": true
   },
   "outputs": [],
   "source": [
    "# convert to Time datatype\n",
    "df['Time of Purchase'] = pd.to_datetime(df['Time of Purchase'], format='%H:%M:%S').dt.time"
   ]
  },
  {
   "cell_type": "code",
   "execution_count": 21,
   "id": "c8ddbc72-e01d-4cf0-858e-fca0b8e99266",
   "metadata": {},
   "outputs": [],
   "source": [
    "def TimeOfDay(x):\n",
    "    if x.hour < 12:\n",
    "        return \"Morning\"\n",
    "    elif x.hour < 16:\n",
    "        return \"Afternoon\"\n",
    "    else:\n",
    "        return \"Evening\""
   ]
  },
  {
   "cell_type": "code",
   "execution_count": 22,
   "id": "ca5626e6-98f6-4fd6-bddf-bf9d17489d8e",
   "metadata": {},
   "outputs": [
    {
     "name": "stdout",
     "output_type": "stream",
     "text": [
      "The most frequent time of day for ticket purchases is Morning with 16,160 purchases.\n"
     ]
    }
   ],
   "source": [
    "df['Time of Day'] = df['Time of Purchase'].apply(TimeOfDay)\n",
    "frequentPurchase = df['Time of Day'].value_counts().sort_values(ascending=False)\n",
    "print(f\"The most frequent time of day for ticket purchases is {frequentPurchase.index[0]} with {frequentPurchase.iloc[0]:,} purchases.\")"
   ]
  },
  {
   "cell_type": "code",
   "execution_count": 23,
   "id": "b76058ea-c498-45b5-b354-89c337aff803",
   "metadata": {},
   "outputs": [
    {
     "data": {
      "image/png": "[encoded data removed]",
      "text/plain": [
       "<Figure size 640x480 with 1 Axes>"
      ]
     },
     "metadata": {},
     "output_type": "display_data"
    }
   ],
   "source": [
    "\n",
    "frequentPurchase.plot(kind='barh')\n",
    "plt.title('Frequency of Ticket Purchases by Time of Day')\n",
    "plt.ylabel('Time of Day')\n",
    "plt.xlabel('Frequency')\n",
    "plt.show()"
   ]
  },
  {
   "cell_type": "markdown",
   "id": "eca0728c-2708-4a10-97b8-9c472343bb90",
   "metadata": {},
   "source": []
  },
  {
   "cell_type": "markdown",
   "id": "e72776cc-5fed-4bda-9ff1-99f66df2c490",
   "metadata": {},
   "source": []
  },
  {
   "cell_type": "markdown",
   "id": "77e4a66c-5a7d-4d79-b2cc-a40fc4fc22f1",
   "metadata": {},
   "source": [
    "### 15.\tAre delays more common during weekends compared to weekdays?"
   ]
  },
  {
   "cell_type": "code",
   "execution_count": 24,
   "id": "607dfb9f-0e21-4ee4-aa7a-f2c4106b44c7",
   "metadata": {},
   "outputs": [],
   "source": [
    "# Monday 0, Tuesday 1, Wednesday 2, Thursday 3, Friday 4, Saturday 5, Sunday 6\n",
    "def weeks(x):\n",
    "    if x.dayofweek <= 4:\n",
    "        return \"Weekdays\"\n",
    "    else:\n",
    "        return \"Weekends\""
   ]
  },
  {
   "cell_type": "code",
   "execution_count": 25,
   "id": "77ddb207-f8e9-43e2-a001-2ffa34b40eb9",
   "metadata": {},
   "outputs": [
    {
     "data": {
      "text/html": [
       "<div>\n",
       "<style scoped>\n",
       "    .dataframe tbody tr th:only-of-type {\n",
       "        vertical-align: middle;\n",
       "    }\n",
       "\n",
       "    .dataframe tbody tr th {\n",
       "        vertical-align: top;\n",
       "    }\n",
       "\n",
       "    .dataframe thead th {\n",
       "        text-align: right;\n",
       "    }\n",
       "</style>\n",
       "<table border=\"1\" class=\"dataframe\">\n",
       "  <thead>\n",
       "    <tr style=\"text-align: right;\">\n",
       "      <th>Journey Status</th>\n",
       "      <th>Delayed</th>\n",
       "    </tr>\n",
       "    <tr>\n",
       "      <th>Weeks</th>\n",
       "      <th></th>\n",
       "    </tr>\n",
       "  </thead>\n",
       "  <tbody>\n",
       "    <tr>\n",
       "      <th>Weekdays</th>\n",
       "      <td>1642</td>\n",
       "    </tr>\n",
       "    <tr>\n",
       "      <th>Weekends</th>\n",
       "      <td>650</td>\n",
       "    </tr>\n",
       "  </tbody>\n",
       "</table>\n",
       "</div>"
      ],
      "text/plain": [
       "Journey Status  Delayed\n",
       "Weeks                  \n",
       "Weekdays           1642\n",
       "Weekends            650"
      ]
     },
     "execution_count": 25,
     "metadata": {},
     "output_type": "execute_result"
    }
   ],
   "source": [
    "df['Weeks'] = df['Date of Purchase'].apply(weeks)\n",
    "delayed = df[df['Journey Status'] == 'Delayed']\n",
    "delayed.groupby('Weeks')['Journey Status'].value_counts().unstack()"
   ]
  },
  {
   "cell_type": "code",
   "execution_count": null,
   "id": "e1cc881f-eea2-45a8-9074-133ad92125b0",
   "metadata": {},
   "outputs": [],
   "source": []
  }
 ],
 "metadata": {
  "kernelspec": {
   "display_name": "Python 3 (ipykernel)",
   "language": "python",
   "name": "python3"
  },
  "language_info": {
   "codemirror_mode": {
    "name": "ipython",
    "version": 3
   },
   "file_extension": ".py",
   "mimetype": "text/x-python",
   "name": "python",
   "nbconvert_exporter": "python",
   "pygments_lexer": "ipython3",
   "version": "3.10.18"
  }
 },
 "nbformat": 4,
 "nbformat_minor": 5
}
